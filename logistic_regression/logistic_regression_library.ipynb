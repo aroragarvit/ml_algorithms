{
 "cells": [
  {
   "cell_type": "code",
   "execution_count": 39,
   "metadata": {},
   "outputs": [
    {
     "name": "stdout",
     "output_type": "stream",
     "text": [
      "Shape of data set\n",
      "(4238, 16)\n",
      "Nan values in train data \n",
      " male                 0\n",
      "age                  0\n",
      "education           86\n",
      "currentSmoker        0\n",
      "cigsPerDay          27\n",
      "BPMeds              41\n",
      "prevalentStroke      0\n",
      "prevalentHyp         0\n",
      "diabetes             0\n",
      "totChol             41\n",
      "sysBP                0\n",
      "diaBP                0\n",
      "BMI                 16\n",
      "heartRate            1\n",
      "glucose            315\n",
      "TenYearCHD           0\n",
      "dtype: int64\n",
      "---------------------------------------------------------\n",
      "Nan values in test data \n",
      " male                0\n",
      "age                 0\n",
      "education          19\n",
      "currentSmoker       0\n",
      "cigsPerDay          2\n",
      "BPMeds             12\n",
      "prevalentStroke     0\n",
      "prevalentHyp        0\n",
      "diabetes            0\n",
      "totChol             9\n",
      "sysBP               0\n",
      "diaBP               0\n",
      "BMI                 3\n",
      "heartRate           0\n",
      "glucose            73\n",
      "TenYearCHD          0\n",
      "dtype: int64\n",
      "Now nan values in train are\n",
      "0\n",
      "Now nan values in test are\n",
      "0\n"
     ]
    }
   ],
   "source": [
    "# Generate train as well as test csv files after cleansing of the data by framingham university for relations between colestrol and hear disease \n",
    "import numpy as np\n",
    "import pandas as pd \n",
    "pd.options.mode.chained_assignment = None  # To suppress a warning \n",
    "from sklearn.model_selection import train_test_split\n",
    "data=pd.read_csv(\"framingham.csv\")\n",
    "print(\"Shape of data set\")\n",
    "print(data.shape)\n",
    "train,test = train_test_split(data,test_size=0.2,shuffle=True,random_state=1)  # splitting the data with shuffling at  shuffling or dropping indexes are not reseted accordingly   and setting random_state so that after shuffling any time data split is same \n",
    "print(\"Nan values in train data \\n {}\".format(train.isna().sum()))\n",
    "print(\"---------------------------------------------------------\")\n",
    "print(\"Nan values in test data \\n {}\".format(test.isna().sum()))\n",
    "\n",
    "train=train.dropna(axis=0, how='any')\n",
    "print(\"Now nan values in train are\")\n",
    "print(train.isna().sum().sum())\n",
    "train.insert(0,'ones',1)    # inserting 1 at first column for our vectorised implementation \n",
    "train=train.to_csv(\"training_data.csv\",index=False)\n",
    "\n",
    "test.dropna(axis=0, how='any', inplace=True)   # removing rows (axis = 0)\n",
    "print(\"Now nan values in test are\")\n",
    "print(test.isna().sum().sum())\n",
    "test.insert(0,'ones',1)\n",
    "test=test.to_csv(\"testing_data.csv\",index=False)\n",
    "\n",
    "def normalize(df):\n",
    "    result = df.copy()\n",
    "    for column in df.columns:\n",
    "        max_value = df[column].max()\n",
    "        min_value = df[column].min()\n",
    "        if(max_value-min_value!=0):\n",
    "            result[column] = (df[column] - min_value) / (max_value - min_value) \n",
    "        else:\n",
    "            result[column]=df[column]\n",
    "    return(result) \n",
    "\n",
    "\n",
    "normalised_train=normalize(pd.read_csv(\"training_data.csv\"))\n",
    "normalised_test=normalize(pd.read_csv(\"testing_data.csv\"))\n",
    "\n",
    "normalised_train_data=normalised_train.iloc[:,0:16]\n",
    "normalised_train_result=normalised_train[\"TenYearCHD\"]\n",
    "\n"
   ]
  },
  {
   "cell_type": "code",
   "execution_count": null,
   "metadata": {},
   "outputs": [],
   "source": []
  }
 ],
 "metadata": {
  "interpreter": {
   "hash": "8ae54068e622f61d47b992eee920515c98b314ebd4be04c0239c7d903a657733"
  },
  "kernelspec": {
   "display_name": "Python 3.8.8",
   "language": "python",
   "name": "python3"
  },
  "language_info": {
   "codemirror_mode": {
    "name": "ipython",
    "version": 3
   },
   "file_extension": ".py",
   "mimetype": "text/x-python",
   "name": "python",
   "nbconvert_exporter": "python",
   "pygments_lexer": "ipython3",
   "version": "3.8.8"
  },
  "orig_nbformat": 4
 },
 "nbformat": 4,
 "nbformat_minor": 2
}
