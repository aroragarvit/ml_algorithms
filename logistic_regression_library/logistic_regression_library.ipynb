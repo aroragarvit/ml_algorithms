{
 "cells": [
  {
   "cell_type": "code",
   "execution_count": 68,
   "metadata": {},
   "outputs": [
    {
     "name": "stdout",
     "output_type": "stream",
     "text": [
      "Shape of data set\n",
      "(4238, 16)\n",
      "Nan values in train data \n",
      " male                 0\n",
      "age                  0\n",
      "education           86\n",
      "currentSmoker        0\n",
      "cigsPerDay          27\n",
      "BPMeds              41\n",
      "prevalentStroke      0\n",
      "prevalentHyp         0\n",
      "diabetes             0\n",
      "totChol             41\n",
      "sysBP                0\n",
      "diaBP                0\n",
      "BMI                 16\n",
      "heartRate            1\n",
      "glucose            315\n",
      "TenYearCHD           0\n",
      "dtype: int64\n",
      "---------------------------------------------------------\n",
      "Nan values in test data \n",
      " male                0\n",
      "age                 0\n",
      "education          19\n",
      "currentSmoker       0\n",
      "cigsPerDay          2\n",
      "BPMeds             12\n",
      "prevalentStroke     0\n",
      "prevalentHyp        0\n",
      "diabetes            0\n",
      "totChol             9\n",
      "sysBP               0\n",
      "diaBP               0\n",
      "BMI                 3\n",
      "heartRate           0\n",
      "glucose            73\n",
      "TenYearCHD          0\n",
      "dtype: int64\n",
      "Now nan values in train are\n",
      "0\n",
      "Now nan values in test are\n",
      "0\n",
      "(741, 1)\n"
     ]
    }
   ],
   "source": [
    "# Generate train as well as test csv files after cleansing of the data by framingham university for relations between colestrol and hear disease \n",
    "import math\n",
    "import numpy as np\n",
    "import pandas as pd \n",
    "import matplotlib.pyplot as plt\n",
    "pd.options.mode.chained_assignment = None  # To suppress a warning \n",
    "from sklearn.model_selection import train_test_split\n",
    "data=pd.read_csv(\"framingham.csv\")\n",
    "print(\"Shape of data set\")\n",
    "print(data.shape)\n",
    "train,test = train_test_split(data,test_size=0.2,shuffle=True,random_state=1)  # splitting the data with shuffling at  shuffling or dropping indexes are not reseted accordingly   and setting random_state so that after shuffling any time data split is same \n",
    "print(\"Nan values in train data \\n {}\".format(train.isna().sum()))\n",
    "print(\"---------------------------------------------------------\")\n",
    "print(\"Nan values in test data \\n {}\".format(test.isna().sum()))\n",
    "\n",
    "train=train.dropna(axis=0, how='any')\n",
    "print(\"Now nan values in train are\")\n",
    "print(train.isna().sum().sum())\n",
    "train.insert(0,'ones',1)    # inserting 1 at first column for our vectorised implementation \n",
    "train=train.to_csv(\"training_data.csv\",index=False)\n",
    "\n",
    "test.dropna(axis=0, how='any', inplace=True)   # removing rows (axis = 0)\n",
    "print(\"Now nan values in test are\")\n",
    "print(test.isna().sum().sum())\n",
    "test.insert(0,'ones',1)\n",
    "test=test.to_csv(\"testing_data.csv\",index=False)\n",
    "\n",
    "def normalize(df):\n",
    "    result = df.copy()\n",
    "    for column in df.columns:\n",
    "        max_value = df[column].max()\n",
    "        min_value = df[column].min()\n",
    "        if(max_value-min_value!=0):\n",
    "            result[column] = (df[column] - min_value) / (max_value - min_value) \n",
    "        else:\n",
    "            result[column]=df[column]\n",
    "    return(result) \n",
    "\n",
    "\n",
    "normalised_train=normalize(pd.read_csv(\"training_data.csv\"))\n",
    "normalised_test=normalize(pd.read_csv(\"testing_data.csv\"))\n",
    "\n",
    "normalised_test_data=normalised_test.iloc[:,0:16].to_numpy()\n",
    "test_result=normalised_test.iloc[:,16].to_numpy()\n",
    "test_result=test_result[:,np.newaxis] \n",
    "print(test_result.shape)  \n",
    "\n",
    "\n",
    "\n",
    "normalised_train_data=normalised_train.iloc[:,0:16]\n",
    "\n",
    "train_result=normalised_train.iloc[:,16].to_numpy()\n",
    "train_result=train_result[:,np.newaxis]             ### VERY VERYVERY IMPORTANT ALWAYS CONVERT YOUT VECTOR TO A  MATRIX FOR SURE\n",
    "\n",
    "\n",
    "\n"
   ]
  },
  {
   "cell_type": "code",
   "execution_count": 75,
   "metadata": {},
   "outputs": [
    {
     "name": "stdout",
     "output_type": "stream",
     "text": [
      "------------------------After training weights are as following --------------------------------\n",
      "[[-1.27371196]\n",
      " [ 0.02721287]\n",
      " [-0.16488872]\n",
      " [-0.48410254]\n",
      " [-0.44293019]\n",
      " [ 0.57686477]\n",
      " [ 0.11463366]\n",
      " [ 0.79955011]\n",
      " [ 0.15015257]\n",
      " [ 0.86007185]\n",
      " [-0.15593586]\n",
      " [ 0.36054173]\n",
      " [-0.39210532]\n",
      " [ 0.06351996]\n",
      " [-0.1156692 ]\n",
      " [ 0.47449732]]\n",
      "-------------------------------------------------------------------------------------------------\n",
      "testing accuracy is  ______________________________\n",
      "86.5047233468286\n"
     ]
    }
   ],
   "source": [
    "\n",
    "Losses=[]\n",
    "AccuracyPercentage=[]\n",
    "Epoches=[]\n",
    "class logistic_regression:\n",
    "      def __init__(self,train,result,test,test_result,epoches,alpha):\n",
    "         self.train=train    #//  m*n+1\n",
    "         self.result=result  #//  m*1\n",
    "         self.test=test\n",
    "         self.test_result=test_result\n",
    "         samples,features=train.shape             # features will also contain 1-1-1-1 in them as first  column \n",
    "         self.samples=samples\n",
    "         self.features=features\n",
    "         self.weights=np.random.rand(features,1)  # n+1*1 # it will contain a single column and number of rows same as number of features\n",
    "         self.epoches=epoches\n",
    "         self.alpha=alpha\n",
    "\n",
    "      def sigmoid(self,x):\n",
    "           y=1/(1+np.exp(-x) )                       \n",
    "           return y\n",
    "      \n",
    "      \n",
    "      def predict(self, X):        \n",
    "        \n",
    "        z = np.dot(X, self.weights) #m*1\n",
    "        \n",
    "        array= np.array([1 if i > 0.5 else 0 for i in self.sigmoid(z)]) # Returning binary result\n",
    "        array=array[:,np.newaxis]\n",
    "        return array\n",
    "\n",
    "      def accuracy(self ,y, y_hat):\n",
    "        accuracy_per = (np.sum(y == y_hat) / len(y) ) * 100\n",
    "        return accuracy_per\n",
    "\n",
    "\n",
    "      def training(self):\n",
    "        \n",
    "          for i in range(self.epoches):  # in each epoch weights are updated and new predictions are made on which new error is generated which is then optimised again again with another loop \n",
    "              Epoches.append(i)\n",
    "              predicted_data=np.dot(self.train,self.weights)  \n",
    "              predicted_probability = self.sigmoid(predicted_data)  #  m*1\n",
    "              binary_predicted=self.predict(self.train)              # self.weights are cahnging in each loop so our binary prediction will also be cahnging in each loop\n",
    "              accuracy_percentage=self.accuracy(self.result,binary_predicted)\n",
    "              AccuracyPercentage.append(accuracy_percentage)\n",
    "             \n",
    "                                                            # -1/m *summation(i=1 to m) { y[i] log(h_theta(x[i]) + (1-y[i]) log(1-h_theta[x[i]]))}\n",
    "                                                            # in logistic regression even if one prediction is not correct then our error will go to nan or infinity \n",
    "                                                            # calculating error using matrices only and not applying the loop \n",
    "              loss= -1/self.samples * np.sum  ( np.add (np.multiply(self.result, np.log(predicted_probability)), np.multiply(1-self.result, np.log(1-predicted_probability)) ) , axis=0)\n",
    "              Losses.append(loss)\n",
    "             # print(\"IN {} epoch loss is {} and accuracy is {}\".format(i,loss,accuracy_percentage))\n",
    "              weights_subtract= self.alpha/self.samples * np.dot(np.transpose(self.train),np.subtract( predicted_probability,self.result) )\n",
    "              \n",
    "              self.weights=np.subtract(self.weights,weights_subtract)\n",
    "# also testing  could be done in each loop\n",
    "      def testing(self):\n",
    "        binary_pre=self.predict(self.test)\n",
    "        acc_per=self.accuracy(self.test_result,binary_pre)\n",
    "        print(\"testing accuracy is  ______________________________\")\n",
    "        print(acc_per)\n",
    "\n",
    "        \n",
    "              \n",
    "a= logistic_regression(train=normalised_train_data,result=train_result,test=normalised_test_data,test_result=test_result,epoches=200,alpha=0.1)\n",
    "\n",
    "a.training()\n",
    "print(\"------------------------After training weights are as following --------------------------------\")\n",
    "print(a.weights)\n",
    "print(\"-------------------------------------------------------------------------------------------------\")\n",
    "a.testing()"
   ]
  },
  {
   "cell_type": "code",
   "execution_count": 76,
   "metadata": {},
   "outputs": [
    {
     "data": {
      "image/png": "[encoded data removed]",
      "text/plain": [
       "<Figure size 432x288 with 1 Axes>"
      ]
     },
     "metadata": {
      "needs_background": "light"
     },
     "output_type": "display_data"
    }
   ],
   "source": [
    "import matplotlib.pyplot as plt\n",
    "\n",
    "\n",
    "plt.title(\"Loss With Each Epoch\",loc = 'left')\n",
    "plt.xlabel(\"epoches\")\n",
    "plt.ylabel(\"Loss\")\n",
    "plt.scatter(Epoches,Losses)\n",
    "plt.show()\n"
   ]
  },
  {
   "cell_type": "code",
   "execution_count": 78,
   "metadata": {},
   "outputs": [
    {
     "data": {
      "image/png": "[encoded data removed]",
      "text/plain": [
       "<Figure size 432x288 with 1 Axes>"
      ]
     },
     "metadata": {
      "needs_background": "light"
     },
     "output_type": "display_data"
    }
   ],
   "source": [
    "import matplotlib.pyplot as plt\n",
    "\n",
    "\n",
    "plt.title(\"Accuracy With Each Epoch\",loc = 'left')\n",
    "plt.xlabel(\"epoches\")\n",
    "plt.ylabel(\"Accuracy% ge\")\n",
    "plt.scatter(Epoches,AccuracyPercentage)\n",
    "plt.show()"
   ]
  },
  {
   "cell_type": "code",
   "execution_count": null,
   "metadata": {},
   "outputs": [],
   "source": []
  }
 ],
 "metadata": {
  "interpreter": {
   "hash": "8ae54068e622f61d47b992eee920515c98b314ebd4be04c0239c7d903a657733"
  },
  "kernelspec": {
   "display_name": "Python 3.8.8",
   "language": "python",
   "name": "python3"
  },
  "language_info": {
   "codemirror_mode": {
    "name": "ipython",
    "version": 3
   },
   "file_extension": ".py",
   "mimetype": "text/x-python",
   "name": "python",
   "nbconvert_exporter": "python",
   "pygments_lexer": "ipython3",
   "version": "3.8.8"
  },
  "orig_nbformat": 4
 },
 "nbformat": 4,
 "nbformat_minor": 2
}
